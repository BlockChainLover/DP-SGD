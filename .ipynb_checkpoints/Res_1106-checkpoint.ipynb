{
 "cells": [
  {
   "cell_type": "code",
   "execution_count": 1,
   "metadata": {},
   "outputs": [
    {
     "name": "stderr",
     "output_type": "stream",
     "text": [
      "/home/shahaichao/.local/lib/python3.8/site-packages/tqdm/auto.py:22: TqdmWarning: IProgress not found. Please update jupyter and ipywidgets. See https://ipywidgets.readthedocs.io/en/stable/user_install.html\n",
      "  from .autonotebook import tqdm as notebook_tqdm\n"
     ]
    }
   ],
   "source": [
    "%matplotlib inline\n",
    "import matplotlib.pyplot as plt\n",
    "import numpy as np\n",
    "import random\n",
    "import torch\n",
    "import csv"
   ]
  },
  {
   "cell_type": "code",
   "execution_count": 226,
   "metadata": {},
   "outputs": [],
   "source": [
    "time = 11051642\n",
    "sigma = 30\n",
    "for i in range(7):\n",
    "    if i == 0:\n",
    "        with open('res/FMNIST/res_'+str(time)+'pdpsgd_c001_lr1_sig'+str(sigma)+'_0.01/'+str(time)+'pdpsgd_c001_lr1_sig'+str(sigma)+'.csv', 'r') as file:\n",
    "            reader = csv.reader(file)\n",
    "            row = next(reader)\n",
    "        pdp1 = np.array(row)\n",
    "        pdp1 = np.array([float(x) for x in pdp1])\n",
    "    else:\n",
    "        if i == 4:\n",
    "            with open('res/FMNIST/res_'+str(time)+'-'+str(i)+'pdpsgd_c001_lr1_sig'+str(sigma)+'_0.01/'+str(time)+'-'+str(i)+'pdpsgd_c001_lr1_sig'+str(sigma)+'.csv', 'r') as file:\n",
    "                reader = csv.reader(file)\n",
    "                row = next(reader)\n",
    "            pdp2 = np.array(row)\n",
    "            pdp2 = np.array([float(x) for x in pdp2])\n",
    "        elif(i==5):\n",
    "            with open('res/FMNIST/res_'+str(time)+'-'+str(i)+'pdpsgd_c001_lr1_sig'+str(sigma)+'_0.01/'+str(time)+'-'+str(i)+'pdpsgd_c001_lr1_sig'+str(sigma)+'.csv', 'r') as file:\n",
    "                reader = csv.reader(file)\n",
    "                row = next(reader)\n",
    "            pdp3 = np.array(row)\n",
    "            pdp3 = np.array([float(x) for x in pdp3])\n",
    "        elif(i==6):\n",
    "            with open('res/FMNIST/res_'+str(time)+'-'+str(i)+'pdpsgd_c001_lr1_sig'+str(sigma)+'_0.01/'+str(time)+'-'+str(i)+'pdpsgd_c001_lr1_sig'+str(sigma)+'.csv', 'r') as file:\n",
    "                reader = csv.reader(file)\n",
    "                row = next(reader)\n",
    "            pdp4 = np.array(row)\n",
    "            pdp4 = np.array([float(x) for x in pdp4])"
   ]
  },
  {
   "cell_type": "code",
   "execution_count": 227,
   "metadata": {},
   "outputs": [
    {
     "data": {
      "text/plain": [
       "44.677499999999995"
      ]
     },
     "execution_count": 227,
     "metadata": {},
     "output_type": "execute_result"
    }
   ],
   "source": [
    "pdp = (pdp1+pdp2+pdp3+pdp4)/4\n",
    "np.max(pdp)\n",
    "#pdp[79]"
   ]
  },
  {
   "cell_type": "code",
   "execution_count": 228,
   "metadata": {},
   "outputs": [
    {
     "data": {
      "text/plain": [
       "13.03958228817166"
      ]
     },
     "execution_count": 228,
     "metadata": {},
     "output_type": "execute_result"
    }
   ],
   "source": [
    "standard_deviation = np.sqrt(( np.square(np.max(pdp)-np.max(pdp1)) + np.square(np.max(pdp)-np.max(pdp2)) + np.square(np.max(pdp)-np.max(pdp3)) + np.square(np.max(pdp)-np.max(pdp4)) )/4)\n",
    "standard_deviation"
   ]
  },
  {
   "cell_type": "code",
   "execution_count": 303,
   "metadata": {},
   "outputs": [],
   "source": [
    "###PCDP\n",
    "time = 11051718\n",
    "sigma = 18\n",
    "for i in range(4):\n",
    "    if i == 0:\n",
    "        with open('res/FMNIST/res_'+str(time)+'pcdpsgd_c001_lr1_sig'+str(sigma)+'_0.01/'+str(time)+'pcdpsgd_c001_lr1_sig'+str(sigma)+'.csv', 'r') as file:\n",
    "            reader = csv.reader(file)\n",
    "            row = next(reader)\n",
    "        pcdp1 = np.array(row)\n",
    "        pcdp1 = np.array([float(x) for x in pcdp1])\n",
    "    else:\n",
    "        with open('res/FMNIST/res_'+str(time)+'-'+str(i)+'pcdpsgd_c001_lr1_sig'+str(sigma)+'_0.01/'+str(time)+'-'+str(i)+'pcdpsgd_c001_lr1_sig'+str(sigma)+'.csv', 'r') as file:\n",
    "            reader = csv.reader(file)\n",
    "            row = next(reader)\n",
    "        if i == 1:\n",
    "            pcdp2 = np.array(row)\n",
    "            pcdp2 = np.array([float(x) for x in pcdp2])\n",
    "        elif(i==2):\n",
    "            pcdp3 = np.array(row)\n",
    "            pcdp3 = np.array([float(x) for x in pcdp3])\n",
    "        elif(i==3):\n",
    "            pcdp4 = np.array(row)\n",
    "            pcdp4 = np.array([float(x) for x in pcdp4])"
   ]
  },
  {
   "cell_type": "code",
   "execution_count": 304,
   "metadata": {},
   "outputs": [
    {
     "data": {
      "text/plain": [
       "70.2675"
      ]
     },
     "execution_count": 304,
     "metadata": {},
     "output_type": "execute_result"
    }
   ],
   "source": [
    "pcdp = (pcdp1+pcdp2+pcdp3+pcdp4)/4\n",
    "np.max(pcdp)"
   ]
  },
  {
   "cell_type": "code",
   "execution_count": 305,
   "metadata": {},
   "outputs": [],
   "source": [
    "pcdp_abadi18_f = pcdp"
   ]
  },
  {
   "cell_type": "code",
   "execution_count": 298,
   "metadata": {},
   "outputs": [],
   "source": [
    "pcdp_abadi22_f = pcdp"
   ]
  },
  {
   "cell_type": "code",
   "execution_count": 224,
   "metadata": {},
   "outputs": [
    {
     "data": {
      "text/plain": [
       "2.7367818692763928"
      ]
     },
     "execution_count": 224,
     "metadata": {},
     "output_type": "execute_result"
    }
   ],
   "source": [
    "standard_deviation = np.sqrt(( np.square(np.max(pcdp)-np.max(pcdp1)) + np.square(np.max(pcdp)-np.max(pcdp2)) + np.square(np.max(pcdp)-np.max(pcdp3)) + np.square(np.max(pcdp)-np.max(pcdp4)))/4)\n",
    "standard_deviation"
   ]
  },
  {
   "cell_type": "code",
   "execution_count": null,
   "metadata": {},
   "outputs": [],
   "source": []
  },
  {
   "cell_type": "code",
   "execution_count": null,
   "metadata": {},
   "outputs": [],
   "source": []
  },
  {
   "cell_type": "code",
   "execution_count": 293,
   "metadata": {},
   "outputs": [],
   "source": [
    "### DP\n",
    "time = 11051703\n",
    "sigma = 22\n",
    "for i in range(7):\n",
    "    if i == 0:\n",
    "        with open('res/FMNIST/res_'+str(time)+'dpsgd_c001_lr1_sig'+str(sigma)+'_0.01/'+str(time)+'dpsgd_c001_lr1_sig'+str(sigma)+'.csv', 'r') as file:\n",
    "            reader = csv.reader(file)\n",
    "            row = next(reader)\n",
    "        dp1 = np.array(row)\n",
    "        dp1 = np.array([float(x) for x in dp1])\n",
    "    else:\n",
    "        with open('res/FMNIST/res_'+str(time)+'-'+str(i)+'dpsgd_c001_lr1_sig'+str(sigma)+'_0.01/'+str(time)+'-'+str(i)+'dpsgd_c001_lr1_sig'+str(sigma)+'.csv', 'r') as file:\n",
    "            reader = csv.reader(file)\n",
    "            row = next(reader)\n",
    "        if i == 4:\n",
    "            dp2 = np.array(row)\n",
    "            dp2 = np.array([float(x) for x in dp2])\n",
    "        elif(i==5):\n",
    "            dp3 = np.array(row)\n",
    "            dp3 = np.array([float(x) for x in dp3])\n",
    "        elif(i==6):\n",
    "            dp4 = np.array(row)\n",
    "            dp4 = np.array([float(x) for x in dp4])"
   ]
  },
  {
   "cell_type": "code",
   "execution_count": 290,
   "metadata": {},
   "outputs": [
    {
     "data": {
      "text/plain": [
       "67.2125"
      ]
     },
     "execution_count": 290,
     "metadata": {},
     "output_type": "execute_result"
    }
   ],
   "source": [
    "dp = (dp1+dp2+dp3+dp4)/4\n",
    "np.max(dp)"
   ]
  },
  {
   "cell_type": "code",
   "execution_count": 162,
   "metadata": {},
   "outputs": [
    {
     "data": {
      "text/plain": [
       "0.0"
      ]
     },
     "execution_count": 162,
     "metadata": {},
     "output_type": "execute_result"
    }
   ],
   "source": [
    "standard_deviation = np.sqrt(( np.square(np.max(dp)-np.max(dp1)) + np.square(np.max(dp)-np.max(dp2)) + np.square(np.max(dp)-np.max(dp3)) + np.square(np.max(dp)-np.max(dp4)))/4)\n",
    "standard_deviation"
   ]
  },
  {
   "cell_type": "code",
   "execution_count": 291,
   "metadata": {},
   "outputs": [],
   "source": [
    "dp_abadi18_f = dp"
   ]
  },
  {
   "cell_type": "code",
   "execution_count": 288,
   "metadata": {},
   "outputs": [],
   "source": [
    "dp_abadi22_f = dp"
   ]
  },
  {
   "cell_type": "code",
   "execution_count": 193,
   "metadata": {},
   "outputs": [
    {
     "data": {
      "text/plain": [
       "0.0"
      ]
     },
     "execution_count": 193,
     "metadata": {},
     "output_type": "execute_result"
    }
   ],
   "source": [
    "sd_dp = np.sqrt((np.square(dp[79]-dp1[79])+np.square(dp[79]-dp2[79])+np.square(dp[79]-dp3[79])+np.square(dp[79]-dp4[79]))/4 )\n",
    "sd_dp"
   ]
  },
  {
   "cell_type": "code",
   "execution_count": 106,
   "metadata": {},
   "outputs": [],
   "source": [
    "### RPDP\n",
    "time = 11081841\n",
    "sigma = 18\n",
    "for i in range(0,4):\n",
    "    if i == 0:\n",
    "        with open('res/other/res_'+str(time)+'rpdpsgd_c001_lr1_sig'+str(sigma)+'_0.01/'+str(time)+'rpdpsgd_c001_lr1_sig'+str(sigma)+'.csv', 'r') as file:\n",
    "            reader = csv.reader(file)\n",
    "            row = next(reader)\n",
    "        rpdp1 = np.array(row)\n",
    "        rpdp1 = np.array([float(x) for x in rpdp1])\n",
    "    else:\n",
    "        with open('res/other/res_'+str(time)+'-'+str(i)+'rpdpsgd_c001_lr1_sig'+str(sigma)+'_0.01/'+str(time)+'-'+str(i)+'rpdpsgd_c001_lr1_sig'+str(sigma)+'.csv', 'r') as file:\n",
    "            reader = csv.reader(file)\n",
    "            row = next(reader)\n",
    "        if i == 1:\n",
    "            rpdp2 = np.array(row)\n",
    "            rpdp2 = np.array([float(x) for x in rpdp2])\n",
    "        elif(i==2):\n",
    "            rpdp3 = np.array(row)\n",
    "            rpdp3 = np.array([float(x) for x in rpdp3])\n",
    "        elif(i==3):\n",
    "            rpdp4 = np.array(row)\n",
    "            rpdp4 = np.array([float(x) for x in rpdp4])\n",
    "        else:\n",
    "            print(\"error\")"
   ]
  },
  {
   "cell_type": "code",
   "execution_count": 104,
   "metadata": {},
   "outputs": [
    {
     "data": {
      "text/plain": [
       "45.01"
      ]
     },
     "execution_count": 104,
     "metadata": {},
     "output_type": "execute_result"
    }
   ],
   "source": [
    "rpdp = (rpdp1 + rpdp2+rpdp3+rpdp4)/4\n",
    "np.max(rpdp)\n",
    "#pdp[79]"
   ]
  },
  {
   "cell_type": "code",
   "execution_count": 94,
   "metadata": {},
   "outputs": [
    {
     "data": {
      "text/plain": [
       "0.0"
      ]
     },
     "execution_count": 94,
     "metadata": {},
     "output_type": "execute_result"
    }
   ],
   "source": [
    "standard_deviation = np.sqrt(( np.square(np.max(rpdp)-np.max(rpdp1)) + np.square(np.max(rpdp)-np.max(rpdp2)) + np.square(np.max(rpdp)-np.max(rpdp3)) + np.square(np.max(rpdp)-np.max(rpdp4)))/4)\n",
    "standard_deviation"
   ]
  },
  {
   "cell_type": "code",
   "execution_count": 91,
   "metadata": {},
   "outputs": [
    {
     "data": {
      "text/plain": [
       "0.34654244569268344"
      ]
     },
     "execution_count": 91,
     "metadata": {},
     "output_type": "execute_result"
    }
   ],
   "source": [
    "standard_deviation = np.sqrt(( np.square(np.max(rpdp)-np.max(rpdp1)) + np.square(np.max(rpdp)-np.max(rpdp2)) + np.square(np.max(rpdp)-np.max(rpdp3)) )/3)\n",
    "standard_deviation"
   ]
  },
  {
   "cell_type": "code",
   "execution_count": 214,
   "metadata": {},
   "outputs": [],
   "source": [
    "### spar\n",
    "time = 11091957\n",
    "sigma = 18\n",
    "for i in range(4):\n",
    "    if i == 0:\n",
    "        with open('res/FMNIST/res_'+str(time)+'spar_c001_lr1_sig'+str(sigma)+'_0.01/'+str(time)+'spar_c001_lr1_sig'+str(sigma)+'.csv', 'r') as file:\n",
    "            reader = csv.reader(file)\n",
    "            row = next(reader)\n",
    "        spar1 = np.array(row)\n",
    "        spar1 = np.array([float(x) for x in spar1])\n",
    "    else:\n",
    "        with open('res/FMNIST/res_'+str(time)+'-'+str(i)+'spar_c001_lr1_sig'+str(sigma)+'_0.01/'+str(time)+'-'+str(i)+'spar_c001_lr1_sig'+str(sigma)+'.csv', 'r') as file:\n",
    "            reader = csv.reader(file)\n",
    "            row = next(reader)\n",
    "        if i == 1:\n",
    "            spar2 = np.array(row)\n",
    "            spar2 = np.array([float(x) for x in spar2])\n",
    "        elif(i==2):\n",
    "            spar3 = np.array(row)\n",
    "            spar3 = np.array([float(x) for x in spar3])\n",
    "        elif(i==3):\n",
    "            spar4 = np.array(row)\n",
    "            spar4 = np.array([float(x) for x in spar4])"
   ]
  },
  {
   "cell_type": "code",
   "execution_count": 215,
   "metadata": {},
   "outputs": [
    {
     "data": {
      "text/plain": [
       "64.73750000000001"
      ]
     },
     "execution_count": 215,
     "metadata": {},
     "output_type": "execute_result"
    }
   ],
   "source": [
    "spar = (spar1 + spar2+spar3+spar4)/4\n",
    "np.max(spar)"
   ]
  },
  {
   "cell_type": "code",
   "execution_count": 216,
   "metadata": {},
   "outputs": [
    {
     "data": {
      "text/plain": [
       "0.2767105888830411"
      ]
     },
     "execution_count": 216,
     "metadata": {},
     "output_type": "execute_result"
    }
   ],
   "source": [
    "standard_deviation = np.sqrt(( np.square(np.max(spar)-np.max(spar1)) + np.square(np.max(spar)-np.max(spar2)) + np.square(np.max(spar)-np.max(spar3)) + np.square(np.max(spar)-np.max(spar4)))/4)\n",
    "standard_deviation"
   ]
  },
  {
   "cell_type": "code",
   "execution_count": null,
   "metadata": {},
   "outputs": [],
   "source": []
  },
  {
   "cell_type": "code",
   "execution_count": null,
   "metadata": {},
   "outputs": [],
   "source": []
  },
  {
   "cell_type": "code",
   "execution_count": 324,
   "metadata": {},
   "outputs": [],
   "source": [
    "### adaptive\n",
    "time = 11092136\n",
    "sigma = 18\n",
    "name = '_autopcdp_xia' #‘dpsgd_xia’ ‘dpsgd_auto’ ‘_autopcdp_xia’ ‘_autopcdp_bu’\n",
    "for i in range(4):\n",
    "    if i == 0:\n",
    "        with open('res/FMNIST/res_'+str(time)+name+'_c001_lr1_sig'+str(sigma)+'_0.01/'+str(time)+name+'_c001_lr1_sig'+str(sigma)+'.csv', 'r') as file:\n",
    "            reader = csv.reader(file)\n",
    "            row = next(reader)\n",
    "        adap1 = np.array(row)\n",
    "        adap1 = np.array([float(x) for x in adap1])\n",
    "    else:\n",
    "        with open('res/FMNIST/res_'+str(time)+'-'+str(i)+name+'_c001_lr1_sig'+str(sigma)+'_0.01/'+str(time)+'-'+str(i)+name+'_c001_lr1_sig'+str(sigma)+'.csv', 'r') as file:\n",
    "            reader = csv.reader(file)\n",
    "            row = next(reader)\n",
    "        if i == 1:\n",
    "            adap2 = np.array(row)\n",
    "            adap2 = np.array([float(x) for x in adap2])\n",
    "        elif(i==2):\n",
    "            adap3 = np.array(row)\n",
    "            adap3 = np.array([float(x) for x in adap3])\n",
    "        elif(i==3):\n",
    "            adap4 = np.array(row)\n",
    "            adap4 = np.array([float(x) for x in adap4])"
   ]
  },
  {
   "cell_type": "code",
   "execution_count": 325,
   "metadata": {},
   "outputs": [
    {
     "data": {
      "text/plain": [
       "69.8825"
      ]
     },
     "execution_count": 325,
     "metadata": {},
     "output_type": "execute_result"
    }
   ],
   "source": [
    "adap = (adap1 + adap2 + adap3 + adap4)/4\n",
    "np.max(adap)"
   ]
  },
  {
   "cell_type": "code",
   "execution_count": 326,
   "metadata": {},
   "outputs": [],
   "source": [
    "_autopcdp_xia22_f = adap"
   ]
  },
  {
   "cell_type": "code",
   "execution_count": 320,
   "metadata": {},
   "outputs": [],
   "source": [
    "dpsgd_xia18_f = adap"
   ]
  },
  {
   "cell_type": "code",
   "execution_count": 323,
   "metadata": {},
   "outputs": [],
   "source": [
    "dpsgd_xia22_f = adap"
   ]
  },
  {
   "cell_type": "code",
   "execution_count": 316,
   "metadata": {},
   "outputs": [],
   "source": [
    "dpsgd_auto18_f = adap"
   ]
  },
  {
   "cell_type": "code",
   "execution_count": null,
   "metadata": {},
   "outputs": [],
   "source": []
  },
  {
   "cell_type": "code",
   "execution_count": 241,
   "metadata": {},
   "outputs": [
    {
     "data": {
      "text/plain": [
       "array([11.625 , 10.7475, 14.0825, 12.4425, 13.255 , 13.1825, 12.3675,\n",
       "       15.7125, 16.3475, 16.5325, 19.0775, 20.3125, 19.075 , 18.165 ,\n",
       "       20.135 , 19.6   , 19.2125, 18.5525, 19.775 , 21.2325, 19.3125,\n",
       "       18.95  , 20.5   , 21.185 , 21.4525, 24.315 , 22.0625, 23.0975,\n",
       "       21.88  , 21.8775, 22.725 , 22.3975, 24.35  , 25.1875, 25.2475,\n",
       "       23.77  , 25.15  , 24.665 , 25.07  , 26.4675, 26.9875, 27.26  ,\n",
       "       27.41  , 27.82  , 27.9325, 28.075 , 28.335 , 28.3875, 28.7275,\n",
       "       28.96  , 29.065 , 29.0425, 29.1975, 29.5025, 29.725 , 29.9   ,\n",
       "       30.115 , 30.325 , 30.59  , 30.8   , 30.83  , 30.865 , 30.8425,\n",
       "       30.8775, 30.9025, 30.9275, 30.955 , 30.965 , 30.99  , 30.995 ,\n",
       "       31.0075, 31.005 , 31.015 , 31.06  , 31.07  , 31.02  , 31.0225,\n",
       "       31.0525, 31.07  , 31.135 ])"
      ]
     },
     "execution_count": 241,
     "metadata": {},
     "output_type": "execute_result"
    }
   ],
   "source": [
    "dpsgd_xia22\n",
    "dpsgd_xia18\n",
    "dpsgd_auto18\n",
    "dpsgd_auto22\n",
    "_autopcdp_xia22\n",
    "_autopcdp_xia18\n",
    "_autopcdp_bu18\n",
    "_autopcdp_bu22\n",
    "dp_abadi18\n",
    "dp_abadi22\n",
    "pcdp_abadi18\n",
    "pcdp_abadi22"
   ]
  },
  {
   "cell_type": "code",
   "execution_count": null,
   "metadata": {},
   "outputs": [],
   "source": [
    "dp_abadi18_f\n",
    "dp_abadi22_f\n",
    "pcdp_abadi18_f\n",
    "pcdp_abadi22_f\n",
    "dpsgd_auto22_f\n",
    "dpsgd_auto18_f\n",
    "dpsgd_xia22_f\n",
    "dpsgd_xia18_f"
   ]
  },
  {
   "cell_type": "code",
   "execution_count": 283,
   "metadata": {},
   "outputs": [
    {
     "data": {
      "application/javascript": [
       "/* Put everything inside the global mpl namespace */\n",
       "/* global mpl */\n",
       "window.mpl = {};\n",
       "\n",
       "mpl.get_websocket_type = function () {\n",
       "    if (typeof WebSocket !== 'undefined') {\n",
       "        return WebSocket;\n",
       "    } else if (typeof MozWebSocket !== 'undefined') {\n",
       "        return MozWebSocket;\n",
       "    } else {\n",
       "        alert(\n",
       "            'Your browser does not have WebSocket support. ' +\n",
       "                'Please try Chrome, Safari or Firefox ≥ 6. ' +\n",
       "                'Firefox 4 and 5 are also supported but you ' +\n",
       "                'have to enable WebSockets in about:config.'\n",
       "        );\n",
       "    }\n",
       "};\n",
       "\n",
       "mpl.figure = function (figure_id, websocket, ondownload, parent_element) {\n",
       "    this.id = figure_id;\n",
       "\n",
       "    this.ws = websocket;\n",
       "\n",
       "    this.supports_binary = this.ws.binaryType !== undefined;\n",
       "\n",
       "    if (!this.supports_binary) {\n",
       "        var warnings = document.getElementById('mpl-warnings');\n",
       "        if (warnings) {\n",
       "            warnings.style.display = 'block';\n",
       "            warnings.textContent =\n",
       "                'This browser does not support binary websocket messages. ' +\n",
       "                'Performance may be slow.';\n",
       "        }\n",
       "    }\n",
       "\n",
       "    this.imageObj = new Image();\n",
       "\n",
       "    this.context = undefined;\n",
       "    this.message = undefined;\n",
       "    this.canvas = undefined;\n",
       "    this.rubberband_canvas = undefined;\n",
       "    this.rubberband_context = undefined;\n",
       "    this.format_dropdown = undefined;\n",
       "\n",
       "    this.image_mode = 'full';\n",
       "\n",
       "    this.root = document.createElement('div');\n",
       "    this.root.setAttribute('style', 'display: inline-block');\n",
       "    this._root_extra_style(this.root);\n",
       "\n",
       "    parent_element.appendChild(this.root);\n",
       "\n",
       "    this._init_header(this);\n",
       "    this._init_canvas(this);\n",
       "    this._init_toolbar(this);\n",
       "\n",
       "    var fig = this;\n",
       "\n",
       "    this.waiting = false;\n",
       "\n",
       "    this.ws.onopen = function () {\n",
       "        fig.send_message('supports_binary', { value: fig.supports_binary });\n",
       "        fig.send_message('send_image_mode', {});\n",
       "        if (fig.ratio !== 1) {\n",
       "            fig.send_message('set_device_pixel_ratio', {\n",
       "                device_pixel_ratio: fig.ratio,\n",
       "            });\n",
       "        }\n",
       "        fig.send_message('refresh', {});\n",
       "    };\n",
       "\n",
       "    this.imageObj.onload = function () {\n",
       "        if (fig.image_mode === 'full') {\n",
       "            // Full images could contain transparency (where diff images\n",
       "            // almost always do), so we need to clear the canvas so that\n",
       "            // there is no ghosting.\n",
       "            fig.context.clearRect(0, 0, fig.canvas.width, fig.canvas.height);\n",
       "        }\n",
       "        fig.context.drawImage(fig.imageObj, 0, 0);\n",
       "    };\n",
       "\n",
       "    this.imageObj.onunload = function () {\n",
       "        fig.ws.close();\n",
       "    };\n",
       "\n",
       "    this.ws.onmessage = this._make_on_message_function(this);\n",
       "\n",
       "    this.ondownload = ondownload;\n",
       "};\n",
       "\n",
       "mpl.figure.prototype._init_header = function () {\n",
       "    var titlebar = document.createElement('div');\n",
       "    titlebar.classList =\n",
       "        'ui-dialog-titlebar ui-widget-header ui-corner-all ui-helper-clearfix';\n",
       "    var titletext = document.createElement('div');\n",
       "    titletext.classList = 'ui-dialog-title';\n",
       "    titletext.setAttribute(\n",
       "        'style',\n",
       "        'width: 100%; text-align: center; padding: 3px;'\n",
       "    );\n",
       "    titlebar.appendChild(titletext);\n",
       "    this.root.appendChild(titlebar);\n",
       "    this.header = titletext;\n",
       "};\n",
       "\n",
       "mpl.figure.prototype._canvas_extra_style = function (_canvas_div) {};\n",
       "\n",
       "mpl.figure.prototype._root_extra_style = function (_canvas_div) {};\n",
       "\n",
       "mpl.figure.prototype._init_canvas = function () {\n",
       "    var fig = this;\n",
       "\n",
       "    var canvas_div = (this.canvas_div = document.createElement('div'));\n",
       "    canvas_div.setAttribute('tabindex', '0');\n",
       "    canvas_div.setAttribute(\n",
       "        'style',\n",
       "        'border: 1px solid #ddd;' +\n",
       "            'box-sizing: content-box;' +\n",
       "            'clear: both;' +\n",
       "            'min-height: 1px;' +\n",
       "            'min-width: 1px;' +\n",
       "            'outline: 0;' +\n",
       "            'overflow: hidden;' +\n",
       "            'position: relative;' +\n",
       "            'resize: both;' +\n",
       "            'z-index: 2;'\n",
       "    );\n",
       "\n",
       "    function on_keyboard_event_closure(name) {\n",
       "        return function (event) {\n",
       "            return fig.key_event(event, name);\n",
       "        };\n",
       "    }\n",
       "\n",
       "    canvas_div.addEventListener(\n",
       "        'keydown',\n",
       "        on_keyboard_event_closure('key_press')\n",
       "    );\n",
       "    canvas_div.addEventListener(\n",
       "        'keyup',\n",
       "        on_keyboard_event_closure('key_release')\n",
       "    );\n",
       "\n",
       "    this._canvas_extra_style(canvas_div);\n",
       "    this.root.appendChild(canvas_div);\n",
       "\n",
       "    var canvas = (this.canvas = document.createElement('canvas'));\n",
       "    canvas.classList.add('mpl-canvas');\n",
       "    canvas.setAttribute(\n",
       "        'style',\n",
       "        'box-sizing: content-box;' +\n",
       "            'pointer-events: none;' +\n",
       "            'position: relative;' +\n",
       "            'z-index: 0;'\n",
       "    );\n",
       "\n",
       "    this.context = canvas.getContext('2d');\n",
       "\n",
       "    var backingStore =\n",
       "        this.context.backingStorePixelRatio ||\n",
       "        this.context.webkitBackingStorePixelRatio ||\n",
       "        this.context.mozBackingStorePixelRatio ||\n",
       "        this.context.msBackingStorePixelRatio ||\n",
       "        this.context.oBackingStorePixelRatio ||\n",
       "        this.context.backingStorePixelRatio ||\n",
       "        1;\n",
       "\n",
       "    this.ratio = (window.devicePixelRatio || 1) / backingStore;\n",
       "\n",
       "    var rubberband_canvas = (this.rubberband_canvas = document.createElement(\n",
       "        'canvas'\n",
       "    ));\n",
       "    rubberband_canvas.setAttribute(\n",
       "        'style',\n",
       "        'box-sizing: content-box;' +\n",
       "            'left: 0;' +\n",
       "            'pointer-events: none;' +\n",
       "            'position: absolute;' +\n",
       "            'top: 0;' +\n",
       "            'z-index: 1;'\n",
       "    );\n",
       "\n",
       "    // Apply a ponyfill if ResizeObserver is not implemented by browser.\n",
       "    if (this.ResizeObserver === undefined) {\n",
       "        if (window.ResizeObserver !== undefined) {\n",
       "            this.ResizeObserver = window.ResizeObserver;\n",
       "        } else {\n",
       "            var obs = _JSXTOOLS_RESIZE_OBSERVER({});\n",
       "            this.ResizeObserver = obs.ResizeObserver;\n",
       "        }\n",
       "    }\n",
       "\n",
       "    this.resizeObserverInstance = new this.ResizeObserver(function (entries) {\n",
       "        var nentries = entries.length;\n",
       "        for (var i = 0; i < nentries; i++) {\n",
       "            var entry = entries[i];\n",
       "            var width, height;\n",
       "            if (entry.contentBoxSize) {\n",
       "                if (entry.contentBoxSize instanceof Array) {\n",
       "                    // Chrome 84 implements new version of spec.\n",
       "                    width = entry.contentBoxSize[0].inlineSize;\n",
       "                    height = entry.contentBoxSize[0].blockSize;\n",
       "                } else {\n",
       "                    // Firefox implements old version of spec.\n",
       "                    width = entry.contentBoxSize.inlineSize;\n",
       "                    height = entry.contentBoxSize.blockSize;\n",
       "                }\n",
       "            } else {\n",
       "                // Chrome <84 implements even older version of spec.\n",
       "                width = entry.contentRect.width;\n",
       "                height = entry.contentRect.height;\n",
       "            }\n",
       "\n",
       "            // Keep the size of the canvas and rubber band canvas in sync with\n",
       "            // the canvas container.\n",
       "            if (entry.devicePixelContentBoxSize) {\n",
       "                // Chrome 84 implements new version of spec.\n",
       "                canvas.setAttribute(\n",
       "                    'width',\n",
       "                    entry.devicePixelContentBoxSize[0].inlineSize\n",
       "                );\n",
       "                canvas.setAttribute(\n",
       "                    'height',\n",
       "                    entry.devicePixelContentBoxSize[0].blockSize\n",
       "                );\n",
       "            } else {\n",
       "                canvas.setAttribute('width', width * fig.ratio);\n",
       "                canvas.setAttribute('height', height * fig.ratio);\n",
       "            }\n",
       "            /* This rescales the canvas back to display pixels, so that it\n",
       "             * appears correct on HiDPI screens. */\n",
       "            canvas.style.width = width + 'px';\n",
       "            canvas.style.height = height + 'px';\n",
       "\n",
       "            rubberband_canvas.setAttribute('width', width);\n",
       "            rubberband_canvas.setAttribute('height', height);\n",
       "\n",
       "            // And update the size in Python. We ignore the initial 0/0 size\n",
       "            // that occurs as the element is placed into the DOM, which should\n",
       "            // otherwise not happen due to the minimum size styling.\n",
       "            if (fig.ws.readyState == 1 && width != 0 && height != 0) {\n",
       "                fig.request_resize(width, height);\n",
       "            }\n",
       "        }\n",
       "    });\n",
       "    this.resizeObserverInstance.observe(canvas_div);\n",
       "\n",
       "    function on_mouse_event_closure(name) {\n",
       "        /* User Agent sniffing is bad, but WebKit is busted:\n",
       "         * https://bugs.webkit.org/show_bug.cgi?id=144526\n",
       "         * https://bugs.webkit.org/show_bug.cgi?id=181818\n",
       "         * The worst that happens here is that they get an extra browser\n",
       "         * selection when dragging, if this check fails to catch them.\n",
       "         */\n",
       "        var UA = navigator.userAgent;\n",
       "        var isWebKit = /AppleWebKit/.test(UA) && !/Chrome/.test(UA);\n",
       "        if(isWebKit) {\n",
       "            return function (event) {\n",
       "                /* This prevents the web browser from automatically changing to\n",
       "                 * the text insertion cursor when the button is pressed. We\n",
       "                 * want to control all of the cursor setting manually through\n",
       "                 * the 'cursor' event from matplotlib */\n",
       "                event.preventDefault()\n",
       "                return fig.mouse_event(event, name);\n",
       "            };\n",
       "        } else {\n",
       "            return function (event) {\n",
       "                return fig.mouse_event(event, name);\n",
       "            };\n",
       "        }\n",
       "    }\n",
       "\n",
       "    canvas_div.addEventListener(\n",
       "        'mousedown',\n",
       "        on_mouse_event_closure('button_press')\n",
       "    );\n",
       "    canvas_div.addEventListener(\n",
       "        'mouseup',\n",
       "        on_mouse_event_closure('button_release')\n",
       "    );\n",
       "    canvas_div.addEventListener(\n",
       "        'dblclick',\n",
       "        on_mouse_event_closure('dblclick')\n",
       "    );\n",
       "    // Throttle sequential mouse events to 1 every 20ms.\n",
       "    canvas_div.addEventListener(\n",
       "        'mousemove',\n",
       "        on_mouse_event_closure('motion_notify')\n",
       "    );\n",
       "\n",
       "    canvas_div.addEventListener(\n",
       "        'mouseenter',\n",
       "        on_mouse_event_closure('figure_enter')\n",
       "    );\n",
       "    canvas_div.addEventListener(\n",
       "        'mouseleave',\n",
       "        on_mouse_event_closure('figure_leave')\n",
       "    );\n",
       "\n",
       "    canvas_div.addEventListener('wheel', function (event) {\n",
       "        if (event.deltaY < 0) {\n",
       "            event.step = 1;\n",
       "        } else {\n",
       "            event.step = -1;\n",
       "        }\n",
       "        on_mouse_event_closure('scroll')(event);\n",
       "    });\n",
       "\n",
       "    canvas_div.appendChild(canvas);\n",
       "    canvas_div.appendChild(rubberband_canvas);\n",
       "\n",
       "    this.rubberband_context = rubberband_canvas.getContext('2d');\n",
       "    this.rubberband_context.strokeStyle = '#000000';\n",
       "\n",
       "    this._resize_canvas = function (width, height, forward) {\n",
       "        if (forward) {\n",
       "            canvas_div.style.width = width + 'px';\n",
       "            canvas_div.style.height = height + 'px';\n",
       "        }\n",
       "    };\n",
       "\n",
       "    // Disable right mouse context menu.\n",
       "    canvas_div.addEventListener('contextmenu', function (_e) {\n",
       "        event.preventDefault();\n",
       "        return false;\n",
       "    });\n",
       "\n",
       "    function set_focus() {\n",
       "        canvas.focus();\n",
       "        canvas_div.focus();\n",
       "    }\n",
       "\n",
       "    window.setTimeout(set_focus, 100);\n",
       "};\n",
       "\n",
       "mpl.figure.prototype._init_toolbar = function () {\n",
       "    var fig = this;\n",
       "\n",
       "    var toolbar = document.createElement('div');\n",
       "    toolbar.classList = 'mpl-toolbar';\n",
       "    this.root.appendChild(toolbar);\n",
       "\n",
       "    function on_click_closure(name) {\n",
       "        return function (_event) {\n",
       "            return fig.toolbar_button_onclick(name);\n",
       "        };\n",
       "    }\n",
       "\n",
       "    function on_mouseover_closure(tooltip) {\n",
       "        return function (event) {\n",
       "            if (!event.currentTarget.disabled) {\n",
       "                return fig.toolbar_button_onmouseover(tooltip);\n",
       "            }\n",
       "        };\n",
       "    }\n",
       "\n",
       "    fig.buttons = {};\n",
       "    var buttonGroup = document.createElement('div');\n",
       "    buttonGroup.classList = 'mpl-button-group';\n",
       "    for (var toolbar_ind in mpl.toolbar_items) {\n",
       "        var name = mpl.toolbar_items[toolbar_ind][0];\n",
       "        var tooltip = mpl.toolbar_items[toolbar_ind][1];\n",
       "        var image = mpl.toolbar_items[toolbar_ind][2];\n",
       "        var method_name = mpl.toolbar_items[toolbar_ind][3];\n",
       "\n",
       "        if (!name) {\n",
       "            /* Instead of a spacer, we start a new button group. */\n",
       "            if (buttonGroup.hasChildNodes()) {\n",
       "                toolbar.appendChild(buttonGroup);\n",
       "            }\n",
       "            buttonGroup = document.createElement('div');\n",
       "            buttonGroup.classList = 'mpl-button-group';\n",
       "            continue;\n",
       "        }\n",
       "\n",
       "        var button = (fig.buttons[name] = document.createElement('button'));\n",
       "        button.classList = 'mpl-widget';\n",
       "        button.setAttribute('role', 'button');\n",
       "        button.setAttribute('aria-disabled', 'false');\n",
       "        button.addEventListener('click', on_click_closure(method_name));\n",
       "        button.addEventListener('mouseover', on_mouseover_closure(tooltip));\n",
       "\n",
       "        var icon_img = document.createElement('img');\n",
       "        icon_img.src = '_images/' + image + '.png';\n",
       "        icon_img.srcset = '_images/' + image + '_large.png 2x';\n",
       "        icon_img.alt = tooltip;\n",
       "        button.appendChild(icon_img);\n",
       "\n",
       "        buttonGroup.appendChild(button);\n",
       "    }\n",
       "\n",
       "    if (buttonGroup.hasChildNodes()) {\n",
       "        toolbar.appendChild(buttonGroup);\n",
       "    }\n",
       "\n",
       "    var fmt_picker = document.createElement('select');\n",
       "    fmt_picker.classList = 'mpl-widget';\n",
       "    toolbar.appendChild(fmt_picker);\n",
       "    this.format_dropdown = fmt_picker;\n",
       "\n",
       "    for (var ind in mpl.extensions) {\n",
       "        var fmt = mpl.extensions[ind];\n",
       "        var option = document.createElement('option');\n",
       "        option.selected = fmt === mpl.default_extension;\n",
       "        option.innerHTML = fmt;\n",
       "        fmt_picker.appendChild(option);\n",
       "    }\n",
       "\n",
       "    var status_bar = document.createElement('span');\n",
       "    status_bar.classList = 'mpl-message';\n",
       "    toolbar.appendChild(status_bar);\n",
       "    this.message = status_bar;\n",
       "};\n",
       "\n",
       "mpl.figure.prototype.request_resize = function (x_pixels, y_pixels) {\n",
       "    // Request matplotlib to resize the figure. Matplotlib will then trigger a resize in the client,\n",
       "    // which will in turn request a refresh of the image.\n",
       "    this.send_message('resize', { width: x_pixels, height: y_pixels });\n",
       "};\n",
       "\n",
       "mpl.figure.prototype.send_message = function (type, properties) {\n",
       "    properties['type'] = type;\n",
       "    properties['figure_id'] = this.id;\n",
       "    this.ws.send(JSON.stringify(properties));\n",
       "};\n",
       "\n",
       "mpl.figure.prototype.send_draw_message = function () {\n",
       "    if (!this.waiting) {\n",
       "        this.waiting = true;\n",
       "        this.ws.send(JSON.stringify({ type: 'draw', figure_id: this.id }));\n",
       "    }\n",
       "};\n",
       "\n",
       "mpl.figure.prototype.handle_save = function (fig, _msg) {\n",
       "    var format_dropdown = fig.format_dropdown;\n",
       "    var format = format_dropdown.options[format_dropdown.selectedIndex].value;\n",
       "    fig.ondownload(fig, format);\n",
       "};\n",
       "\n",
       "mpl.figure.prototype.handle_resize = function (fig, msg) {\n",
       "    var size = msg['size'];\n",
       "    if (size[0] !== fig.canvas.width || size[1] !== fig.canvas.height) {\n",
       "        fig._resize_canvas(size[0], size[1], msg['forward']);\n",
       "        fig.send_message('refresh', {});\n",
       "    }\n",
       "};\n",
       "\n",
       "mpl.figure.prototype.handle_rubberband = function (fig, msg) {\n",
       "    var x0 = msg['x0'] / fig.ratio;\n",
       "    var y0 = (fig.canvas.height - msg['y0']) / fig.ratio;\n",
       "    var x1 = msg['x1'] / fig.ratio;\n",
       "    var y1 = (fig.canvas.height - msg['y1']) / fig.ratio;\n",
       "    x0 = Math.floor(x0) + 0.5;\n",
       "    y0 = Math.floor(y0) + 0.5;\n",
       "    x1 = Math.floor(x1) + 0.5;\n",
       "    y1 = Math.floor(y1) + 0.5;\n",
       "    var min_x = Math.min(x0, x1);\n",
       "    var min_y = Math.min(y0, y1);\n",
       "    var width = Math.abs(x1 - x0);\n",
       "    var height = Math.abs(y1 - y0);\n",
       "\n",
       "    fig.rubberband_context.clearRect(\n",
       "        0,\n",
       "        0,\n",
       "        fig.canvas.width / fig.ratio,\n",
       "        fig.canvas.height / fig.ratio\n",
       "    );\n",
       "\n",
       "    fig.rubberband_context.strokeRect(min_x, min_y, width, height);\n",
       "};\n",
       "\n",
       "mpl.figure.prototype.handle_figure_label = function (fig, msg) {\n",
       "    // Updates the figure title.\n",
       "    fig.header.textContent = msg['label'];\n",
       "};\n",
       "\n",
       "mpl.figure.prototype.handle_cursor = function (fig, msg) {\n",
       "    fig.canvas_div.style.cursor = msg['cursor'];\n",
       "};\n",
       "\n",
       "mpl.figure.prototype.handle_message = function (fig, msg) {\n",
       "    fig.message.textContent = msg['message'];\n",
       "};\n",
       "\n",
       "mpl.figure.prototype.handle_draw = function (fig, _msg) {\n",
       "    // Request the server to send over a new figure.\n",
       "    fig.send_draw_message();\n",
       "};\n",
       "\n",
       "mpl.figure.prototype.handle_image_mode = function (fig, msg) {\n",
       "    fig.image_mode = msg['mode'];\n",
       "};\n",
       "\n",
       "mpl.figure.prototype.handle_history_buttons = function (fig, msg) {\n",
       "    for (var key in msg) {\n",
       "        if (!(key in fig.buttons)) {\n",
       "            continue;\n",
       "        }\n",
       "        fig.buttons[key].disabled = !msg[key];\n",
       "        fig.buttons[key].setAttribute('aria-disabled', !msg[key]);\n",
       "    }\n",
       "};\n",
       "\n",
       "mpl.figure.prototype.handle_navigate_mode = function (fig, msg) {\n",
       "    if (msg['mode'] === 'PAN') {\n",
       "        fig.buttons['Pan'].classList.add('active');\n",
       "        fig.buttons['Zoom'].classList.remove('active');\n",
       "    } else if (msg['mode'] === 'ZOOM') {\n",
       "        fig.buttons['Pan'].classList.remove('active');\n",
       "        fig.buttons['Zoom'].classList.add('active');\n",
       "    } else {\n",
       "        fig.buttons['Pan'].classList.remove('active');\n",
       "        fig.buttons['Zoom'].classList.remove('active');\n",
       "    }\n",
       "};\n",
       "\n",
       "mpl.figure.prototype.updated_canvas_event = function () {\n",
       "    // Called whenever the canvas gets updated.\n",
       "    this.send_message('ack', {});\n",
       "};\n",
       "\n",
       "// A function to construct a web socket function for onmessage handling.\n",
       "// Called in the figure constructor.\n",
       "mpl.figure.prototype._make_on_message_function = function (fig) {\n",
       "    return function socket_on_message(evt) {\n",
       "        if (evt.data instanceof Blob) {\n",
       "            var img = evt.data;\n",
       "            if (img.type !== 'image/png') {\n",
       "                /* FIXME: We get \"Resource interpreted as Image but\n",
       "                 * transferred with MIME type text/plain:\" errors on\n",
       "                 * Chrome.  But how to set the MIME type?  It doesn't seem\n",
       "                 * to be part of the websocket stream */\n",
       "                img.type = 'image/png';\n",
       "            }\n",
       "\n",
       "            /* Free the memory for the previous frames */\n",
       "            if (fig.imageObj.src) {\n",
       "                (window.URL || window.webkitURL).revokeObjectURL(\n",
       "                    fig.imageObj.src\n",
       "                );\n",
       "            }\n",
       "\n",
       "            fig.imageObj.src = (window.URL || window.webkitURL).createObjectURL(\n",
       "                img\n",
       "            );\n",
       "            fig.updated_canvas_event();\n",
       "            fig.waiting = false;\n",
       "            return;\n",
       "        } else if (\n",
       "            typeof evt.data === 'string' &&\n",
       "            evt.data.slice(0, 21) === 'data:image/png;base64'\n",
       "        ) {\n",
       "            fig.imageObj.src = evt.data;\n",
       "            fig.updated_canvas_event();\n",
       "            fig.waiting = false;\n",
       "            return;\n",
       "        }\n",
       "\n",
       "        var msg = JSON.parse(evt.data);\n",
       "        var msg_type = msg['type'];\n",
       "\n",
       "        // Call the  \"handle_{type}\" callback, which takes\n",
       "        // the figure and JSON message as its only arguments.\n",
       "        try {\n",
       "            var callback = fig['handle_' + msg_type];\n",
       "        } catch (e) {\n",
       "            console.log(\n",
       "                \"No handler for the '\" + msg_type + \"' message type: \",\n",
       "                msg\n",
       "            );\n",
       "            return;\n",
       "        }\n",
       "\n",
       "        if (callback) {\n",
       "            try {\n",
       "                // console.log(\"Handling '\" + msg_type + \"' message: \", msg);\n",
       "                callback(fig, msg);\n",
       "            } catch (e) {\n",
       "                console.log(\n",
       "                    \"Exception inside the 'handler_\" + msg_type + \"' callback:\",\n",
       "                    e,\n",
       "                    e.stack,\n",
       "                    msg\n",
       "                );\n",
       "            }\n",
       "        }\n",
       "    };\n",
       "};\n",
       "\n",
       "function getModifiers(event) {\n",
       "    var mods = [];\n",
       "    if (event.ctrlKey) {\n",
       "        mods.push('ctrl');\n",
       "    }\n",
       "    if (event.altKey) {\n",
       "        mods.push('alt');\n",
       "    }\n",
       "    if (event.shiftKey) {\n",
       "        mods.push('shift');\n",
       "    }\n",
       "    if (event.metaKey) {\n",
       "        mods.push('meta');\n",
       "    }\n",
       "    return mods;\n",
       "}\n",
       "\n",
       "/*\n",
       " * return a copy of an object with only non-object keys\n",
       " * we need this to avoid circular references\n",
       " * https://stackoverflow.com/a/24161582/3208463\n",
       " */\n",
       "function simpleKeys(original) {\n",
       "    return Object.keys(original).reduce(function (obj, key) {\n",
       "        if (typeof original[key] !== 'object') {\n",
       "            obj[key] = original[key];\n",
       "        }\n",
       "        return obj;\n",
       "    }, {});\n",
       "}\n",
       "\n",
       "mpl.figure.prototype.mouse_event = function (event, name) {\n",
       "    if (name === 'button_press') {\n",
       "        this.canvas.focus();\n",
       "        this.canvas_div.focus();\n",
       "    }\n",
       "\n",
       "    // from https://stackoverflow.com/q/1114465\n",
       "    var boundingRect = this.canvas.getBoundingClientRect();\n",
       "    var x = (event.clientX - boundingRect.left) * this.ratio;\n",
       "    var y = (event.clientY - boundingRect.top) * this.ratio;\n",
       "\n",
       "    this.send_message(name, {\n",
       "        x: x,\n",
       "        y: y,\n",
       "        button: event.button,\n",
       "        step: event.step,\n",
       "        modifiers: getModifiers(event),\n",
       "        guiEvent: simpleKeys(event),\n",
       "    });\n",
       "\n",
       "    return false;\n",
       "};\n",
       "\n",
       "mpl.figure.prototype._key_event_extra = function (_event, _name) {\n",
       "    // Handle any extra behaviour associated with a key event\n",
       "};\n",
       "\n",
       "mpl.figure.prototype.key_event = function (event, name) {\n",
       "    // Prevent repeat events\n",
       "    if (name === 'key_press') {\n",
       "        if (event.key === this._key) {\n",
       "            return;\n",
       "        } else {\n",
       "            this._key = event.key;\n",
       "        }\n",
       "    }\n",
       "    if (name === 'key_release') {\n",
       "        this._key = null;\n",
       "    }\n",
       "\n",
       "    var value = '';\n",
       "    if (event.ctrlKey && event.key !== 'Control') {\n",
       "        value += 'ctrl+';\n",
       "    }\n",
       "    else if (event.altKey && event.key !== 'Alt') {\n",
       "        value += 'alt+';\n",
       "    }\n",
       "    else if (event.shiftKey && event.key !== 'Shift') {\n",
       "        value += 'shift+';\n",
       "    }\n",
       "\n",
       "    value += 'k' + event.key;\n",
       "\n",
       "    this._key_event_extra(event, name);\n",
       "\n",
       "    this.send_message(name, { key: value, guiEvent: simpleKeys(event) });\n",
       "    return false;\n",
       "};\n",
       "\n",
       "mpl.figure.prototype.toolbar_button_onclick = function (name) {\n",
       "    if (name === 'download') {\n",
       "        this.handle_save(this, null);\n",
       "    } else {\n",
       "        this.send_message('toolbar_button', { name: name });\n",
       "    }\n",
       "};\n",
       "\n",
       "mpl.figure.prototype.toolbar_button_onmouseover = function (tooltip) {\n",
       "    this.message.textContent = tooltip;\n",
       "};\n",
       "\n",
       "///////////////// REMAINING CONTENT GENERATED BY embed_js.py /////////////////\n",
       "// prettier-ignore\n",
       "var _JSXTOOLS_RESIZE_OBSERVER=function(A){var t,i=new WeakMap,n=new WeakMap,a=new WeakMap,r=new WeakMap,o=new Set;function s(e){if(!(this instanceof s))throw new TypeError(\"Constructor requires 'new' operator\");i.set(this,e)}function h(){throw new TypeError(\"Function is not a constructor\")}function c(e,t,i,n){e=0 in arguments?Number(arguments[0]):0,t=1 in arguments?Number(arguments[1]):0,i=2 in arguments?Number(arguments[2]):0,n=3 in arguments?Number(arguments[3]):0,this.right=(this.x=this.left=e)+(this.width=i),this.bottom=(this.y=this.top=t)+(this.height=n),Object.freeze(this)}function d(){t=requestAnimationFrame(d);var s=new WeakMap,p=new Set;o.forEach((function(t){r.get(t).forEach((function(i){var r=t instanceof window.SVGElement,o=a.get(t),d=r?0:parseFloat(o.paddingTop),f=r?0:parseFloat(o.paddingRight),l=r?0:parseFloat(o.paddingBottom),u=r?0:parseFloat(o.paddingLeft),g=r?0:parseFloat(o.borderTopWidth),m=r?0:parseFloat(o.borderRightWidth),w=r?0:parseFloat(o.borderBottomWidth),b=u+f,F=d+l,v=(r?0:parseFloat(o.borderLeftWidth))+m,W=g+w,y=r?0:t.offsetHeight-W-t.clientHeight,E=r?0:t.offsetWidth-v-t.clientWidth,R=b+v,z=F+W,M=r?t.width:parseFloat(o.width)-R-E,O=r?t.height:parseFloat(o.height)-z-y;if(n.has(t)){var k=n.get(t);if(k[0]===M&&k[1]===O)return}n.set(t,[M,O]);var S=Object.create(h.prototype);S.target=t,S.contentRect=new c(u,d,M,O),s.has(i)||(s.set(i,[]),p.add(i)),s.get(i).push(S)}))})),p.forEach((function(e){i.get(e).call(e,s.get(e),e)}))}return s.prototype.observe=function(i){if(i instanceof window.Element){r.has(i)||(r.set(i,new Set),o.add(i),a.set(i,window.getComputedStyle(i)));var n=r.get(i);n.has(this)||n.add(this),cancelAnimationFrame(t),t=requestAnimationFrame(d)}},s.prototype.unobserve=function(i){if(i instanceof window.Element&&r.has(i)){var n=r.get(i);n.has(this)&&(n.delete(this),n.size||(r.delete(i),o.delete(i))),n.size||r.delete(i),o.size||cancelAnimationFrame(t)}},A.DOMRectReadOnly=c,A.ResizeObserver=s,A.ResizeObserverEntry=h,A}; // eslint-disable-line\n",
       "mpl.toolbar_items = [[\"Home\", \"Reset original view\", \"fa fa-home\", \"home\"], [\"Back\", \"Back to previous view\", \"fa fa-arrow-left\", \"back\"], [\"Forward\", \"Forward to next view\", \"fa fa-arrow-right\", \"forward\"], [\"\", \"\", \"\", \"\"], [\"Pan\", \"Left button pans, Right button zooms\\nx/y fixes axis, CTRL fixes aspect\", \"fa fa-arrows\", \"pan\"], [\"Zoom\", \"Zoom to rectangle\\nx/y fixes axis\", \"fa fa-square-o\", \"zoom\"], [\"\", \"\", \"\", \"\"], [\"Download\", \"Download plot\", \"fa fa-floppy-o\", \"download\"]];\n",
       "\n",
       "mpl.extensions = [\"eps\", \"jpeg\", \"pgf\", \"pdf\", \"png\", \"ps\", \"raw\", \"svg\", \"tif\", \"webp\"];\n",
       "\n",
       "mpl.default_extension = \"png\";/* global mpl */\n",
       "\n",
       "var comm_websocket_adapter = function (comm) {\n",
       "    // Create a \"websocket\"-like object which calls the given IPython comm\n",
       "    // object with the appropriate methods. Currently this is a non binary\n",
       "    // socket, so there is still some room for performance tuning.\n",
       "    var ws = {};\n",
       "\n",
       "    ws.binaryType = comm.kernel.ws.binaryType;\n",
       "    ws.readyState = comm.kernel.ws.readyState;\n",
       "    function updateReadyState(_event) {\n",
       "        if (comm.kernel.ws) {\n",
       "            ws.readyState = comm.kernel.ws.readyState;\n",
       "        } else {\n",
       "            ws.readyState = 3; // Closed state.\n",
       "        }\n",
       "    }\n",
       "    comm.kernel.ws.addEventListener('open', updateReadyState);\n",
       "    comm.kernel.ws.addEventListener('close', updateReadyState);\n",
       "    comm.kernel.ws.addEventListener('error', updateReadyState);\n",
       "\n",
       "    ws.close = function () {\n",
       "        comm.close();\n",
       "    };\n",
       "    ws.send = function (m) {\n",
       "        //console.log('sending', m);\n",
       "        comm.send(m);\n",
       "    };\n",
       "    // Register the callback with on_msg.\n",
       "    comm.on_msg(function (msg) {\n",
       "        //console.log('receiving', msg['content']['data'], msg);\n",
       "        var data = msg['content']['data'];\n",
       "        if (data['blob'] !== undefined) {\n",
       "            data = {\n",
       "                data: new Blob(msg['buffers'], { type: data['blob'] }),\n",
       "            };\n",
       "        }\n",
       "        // Pass the mpl event to the overridden (by mpl) onmessage function.\n",
       "        ws.onmessage(data);\n",
       "    });\n",
       "    return ws;\n",
       "};\n",
       "\n",
       "mpl.mpl_figure_comm = function (comm, msg) {\n",
       "    // This is the function which gets called when the mpl process\n",
       "    // starts-up an IPython Comm through the \"matplotlib\" channel.\n",
       "\n",
       "    var id = msg.content.data.id;\n",
       "    // Get hold of the div created by the display call when the Comm\n",
       "    // socket was opened in Python.\n",
       "    var element = document.getElementById(id);\n",
       "    var ws_proxy = comm_websocket_adapter(comm);\n",
       "\n",
       "    function ondownload(figure, _format) {\n",
       "        window.open(figure.canvas.toDataURL());\n",
       "    }\n",
       "\n",
       "    var fig = new mpl.figure(id, ws_proxy, ondownload, element);\n",
       "\n",
       "    // Call onopen now - mpl needs it, as it is assuming we've passed it a real\n",
       "    // web socket which is closed, not our websocket->open comm proxy.\n",
       "    ws_proxy.onopen();\n",
       "\n",
       "    fig.parent_element = element;\n",
       "    fig.cell_info = mpl.find_output_cell(\"<div id='\" + id + \"'></div>\");\n",
       "    if (!fig.cell_info) {\n",
       "        console.error('Failed to find cell for figure', id, fig);\n",
       "        return;\n",
       "    }\n",
       "    fig.cell_info[0].output_area.element.on(\n",
       "        'cleared',\n",
       "        { fig: fig },\n",
       "        fig._remove_fig_handler\n",
       "    );\n",
       "};\n",
       "\n",
       "mpl.figure.prototype.handle_close = function (fig, msg) {\n",
       "    var width = fig.canvas.width / fig.ratio;\n",
       "    fig.cell_info[0].output_area.element.off(\n",
       "        'cleared',\n",
       "        fig._remove_fig_handler\n",
       "    );\n",
       "    fig.resizeObserverInstance.unobserve(fig.canvas_div);\n",
       "\n",
       "    // Update the output cell to use the data from the current canvas.\n",
       "    fig.push_to_output();\n",
       "    var dataURL = fig.canvas.toDataURL();\n",
       "    // Re-enable the keyboard manager in IPython - without this line, in FF,\n",
       "    // the notebook keyboard shortcuts fail.\n",
       "    IPython.keyboard_manager.enable();\n",
       "    fig.parent_element.innerHTML =\n",
       "        '<img src=\"' + dataURL + '\" width=\"' + width + '\">';\n",
       "    fig.close_ws(fig, msg);\n",
       "};\n",
       "\n",
       "mpl.figure.prototype.close_ws = function (fig, msg) {\n",
       "    fig.send_message('closing', msg);\n",
       "    // fig.ws.close()\n",
       "};\n",
       "\n",
       "mpl.figure.prototype.push_to_output = function (_remove_interactive) {\n",
       "    // Turn the data on the canvas into data in the output cell.\n",
       "    var width = this.canvas.width / this.ratio;\n",
       "    var dataURL = this.canvas.toDataURL();\n",
       "    this.cell_info[1]['text/html'] =\n",
       "        '<img src=\"' + dataURL + '\" width=\"' + width + '\">';\n",
       "};\n",
       "\n",
       "mpl.figure.prototype.updated_canvas_event = function () {\n",
       "    // Tell IPython that the notebook contents must change.\n",
       "    IPython.notebook.set_dirty(true);\n",
       "    this.send_message('ack', {});\n",
       "    var fig = this;\n",
       "    // Wait a second, then push the new image to the DOM so\n",
       "    // that it is saved nicely (might be nice to debounce this).\n",
       "    setTimeout(function () {\n",
       "        fig.push_to_output();\n",
       "    }, 1000);\n",
       "};\n",
       "\n",
       "mpl.figure.prototype._init_toolbar = function () {\n",
       "    var fig = this;\n",
       "\n",
       "    var toolbar = document.createElement('div');\n",
       "    toolbar.classList = 'btn-toolbar';\n",
       "    this.root.appendChild(toolbar);\n",
       "\n",
       "    function on_click_closure(name) {\n",
       "        return function (_event) {\n",
       "            return fig.toolbar_button_onclick(name);\n",
       "        };\n",
       "    }\n",
       "\n",
       "    function on_mouseover_closure(tooltip) {\n",
       "        return function (event) {\n",
       "            if (!event.currentTarget.disabled) {\n",
       "                return fig.toolbar_button_onmouseover(tooltip);\n",
       "            }\n",
       "        };\n",
       "    }\n",
       "\n",
       "    fig.buttons = {};\n",
       "    var buttonGroup = document.createElement('div');\n",
       "    buttonGroup.classList = 'btn-group';\n",
       "    var button;\n",
       "    for (var toolbar_ind in mpl.toolbar_items) {\n",
       "        var name = mpl.toolbar_items[toolbar_ind][0];\n",
       "        var tooltip = mpl.toolbar_items[toolbar_ind][1];\n",
       "        var image = mpl.toolbar_items[toolbar_ind][2];\n",
       "        var method_name = mpl.toolbar_items[toolbar_ind][3];\n",
       "\n",
       "        if (!name) {\n",
       "            /* Instead of a spacer, we start a new button group. */\n",
       "            if (buttonGroup.hasChildNodes()) {\n",
       "                toolbar.appendChild(buttonGroup);\n",
       "            }\n",
       "            buttonGroup = document.createElement('div');\n",
       "            buttonGroup.classList = 'btn-group';\n",
       "            continue;\n",
       "        }\n",
       "\n",
       "        button = fig.buttons[name] = document.createElement('button');\n",
       "        button.classList = 'btn btn-default';\n",
       "        button.href = '#';\n",
       "        button.title = name;\n",
       "        button.innerHTML = '<i class=\"fa ' + image + ' fa-lg\"></i>';\n",
       "        button.addEventListener('click', on_click_closure(method_name));\n",
       "        button.addEventListener('mouseover', on_mouseover_closure(tooltip));\n",
       "        buttonGroup.appendChild(button);\n",
       "    }\n",
       "\n",
       "    if (buttonGroup.hasChildNodes()) {\n",
       "        toolbar.appendChild(buttonGroup);\n",
       "    }\n",
       "\n",
       "    // Add the status bar.\n",
       "    var status_bar = document.createElement('span');\n",
       "    status_bar.classList = 'mpl-message pull-right';\n",
       "    toolbar.appendChild(status_bar);\n",
       "    this.message = status_bar;\n",
       "\n",
       "    // Add the close button to the window.\n",
       "    var buttongrp = document.createElement('div');\n",
       "    buttongrp.classList = 'btn-group inline pull-right';\n",
       "    button = document.createElement('button');\n",
       "    button.classList = 'btn btn-mini btn-primary';\n",
       "    button.href = '#';\n",
       "    button.title = 'Stop Interaction';\n",
       "    button.innerHTML = '<i class=\"fa fa-power-off icon-remove icon-large\"></i>';\n",
       "    button.addEventListener('click', function (_evt) {\n",
       "        fig.handle_close(fig, {});\n",
       "    });\n",
       "    button.addEventListener(\n",
       "        'mouseover',\n",
       "        on_mouseover_closure('Stop Interaction')\n",
       "    );\n",
       "    buttongrp.appendChild(button);\n",
       "    var titlebar = this.root.querySelector('.ui-dialog-titlebar');\n",
       "    titlebar.insertBefore(buttongrp, titlebar.firstChild);\n",
       "};\n",
       "\n",
       "mpl.figure.prototype._remove_fig_handler = function (event) {\n",
       "    var fig = event.data.fig;\n",
       "    if (event.target !== this) {\n",
       "        // Ignore bubbled events from children.\n",
       "        return;\n",
       "    }\n",
       "    fig.close_ws(fig, {});\n",
       "};\n",
       "\n",
       "mpl.figure.prototype._root_extra_style = function (el) {\n",
       "    el.style.boxSizing = 'content-box'; // override notebook setting of border-box.\n",
       "};\n",
       "\n",
       "mpl.figure.prototype._canvas_extra_style = function (el) {\n",
       "    // this is important to make the div 'focusable\n",
       "    el.setAttribute('tabindex', 0);\n",
       "    // reach out to IPython and tell the keyboard manager to turn it's self\n",
       "    // off when our div gets focus\n",
       "\n",
       "    // location in version 3\n",
       "    if (IPython.notebook.keyboard_manager) {\n",
       "        IPython.notebook.keyboard_manager.register_events(el);\n",
       "    } else {\n",
       "        // location in version 2\n",
       "        IPython.keyboard_manager.register_events(el);\n",
       "    }\n",
       "};\n",
       "\n",
       "mpl.figure.prototype._key_event_extra = function (event, _name) {\n",
       "    // Check for shift+enter\n",
       "    if (event.shiftKey && event.which === 13) {\n",
       "        this.canvas_div.blur();\n",
       "        // select the cell after this one\n",
       "        var index = IPython.notebook.find_cell_index(this.cell_info[0]);\n",
       "        IPython.notebook.select(index + 1);\n",
       "    }\n",
       "};\n",
       "\n",
       "mpl.figure.prototype.handle_save = function (fig, _msg) {\n",
       "    fig.ondownload(fig, null);\n",
       "};\n",
       "\n",
       "mpl.find_output_cell = function (html_output) {\n",
       "    // Return the cell and output element which can be found *uniquely* in the notebook.\n",
       "    // Note - this is a bit hacky, but it is done because the \"notebook_saving.Notebook\"\n",
       "    // IPython event is triggered only after the cells have been serialised, which for\n",
       "    // our purposes (turning an active figure into a static one), is too late.\n",
       "    var cells = IPython.notebook.get_cells();\n",
       "    var ncells = cells.length;\n",
       "    for (var i = 0; i < ncells; i++) {\n",
       "        var cell = cells[i];\n",
       "        if (cell.cell_type === 'code') {\n",
       "            for (var j = 0; j < cell.output_area.outputs.length; j++) {\n",
       "                var data = cell.output_area.outputs[j];\n",
       "                if (data.data) {\n",
       "                    // IPython >= 3 moved mimebundle to data attribute of output\n",
       "                    data = data.data;\n",
       "                }\n",
       "                if (data['text/html'] === html_output) {\n",
       "                    return [cell, data, j];\n",
       "                }\n",
       "            }\n",
       "        }\n",
       "    }\n",
       "};\n",
       "\n",
       "// Register the function which deals with the matplotlib target/channel.\n",
       "// The kernel may be null if the page has been refreshed.\n",
       "if (IPython.notebook.kernel !== null) {\n",
       "    IPython.notebook.kernel.comm_manager.register_target(\n",
       "        'matplotlib',\n",
       "        mpl.mpl_figure_comm\n",
       "    );\n",
       "}\n"
      ],
      "text/plain": [
       "<IPython.core.display.Javascript object>"
      ]
     },
     "metadata": {},
     "output_type": "display_data"
    },
    {
     "data": {
      "text/html": [
       "<img src=\"data:image/png;base64,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\" width=\"640\">"
      ],
      "text/plain": [
       "<IPython.core.display.HTML object>"
      ]
     },
     "metadata": {},
     "output_type": "display_data"
    },
    {
     "ename": "NameError",
     "evalue": "name 'inset_axes' is not defined",
     "output_type": "error",
     "traceback": [
      "\u001b[0;31m---------------------------------------------------------------------------\u001b[0m",
      "\u001b[0;31mNameError\u001b[0m                                 Traceback (most recent call last)",
      "Input \u001b[0;32mIn [283]\u001b[0m, in \u001b[0;36m<cell line: 25>\u001b[0;34m()\u001b[0m\n\u001b[1;32m     22\u001b[0m \u001b[38;5;66;03m#plt.legend(loc='best')\u001b[39;00m\n\u001b[1;32m     23\u001b[0m plt\u001b[38;5;241m.\u001b[39mlegend(loc \u001b[38;5;241m=\u001b[39m \u001b[38;5;241m4\u001b[39m)\n\u001b[0;32m---> 25\u001b[0m axins \u001b[38;5;241m=\u001b[39m \u001b[43minset_axes\u001b[49m(ax, width\u001b[38;5;241m=\u001b[39m\u001b[38;5;124m\"\u001b[39m\u001b[38;5;124m15\u001b[39m\u001b[38;5;124m%\u001b[39m\u001b[38;5;124m\"\u001b[39m, height\u001b[38;5;241m=\u001b[39m\u001b[38;5;124m\"\u001b[39m\u001b[38;5;124m7\u001b[39m\u001b[38;5;124m%\u001b[39m\u001b[38;5;124m\"\u001b[39m, loc\u001b[38;5;241m=\u001b[39m\u001b[38;5;241m3\u001b[39m,\n\u001b[1;32m     26\u001b[0m                  bbox_to_anchor\u001b[38;5;241m=\u001b[39m(\u001b[38;5;241m0.5\u001b[39m, \u001b[38;5;241m0.5\u001b[39m, \u001b[38;5;241m3\u001b[39m, \u001b[38;5;241m2\u001b[39m),\n\u001b[1;32m     27\u001b[0m                  bbox_transform\u001b[38;5;241m=\u001b[39max\u001b[38;5;241m.\u001b[39mtransAxes)\n\u001b[1;32m     28\u001b[0m \u001b[38;5;66;03m#在子坐标系中放入数据\u001b[39;00m\n\u001b[1;32m     29\u001b[0m axins\u001b[38;5;241m.\u001b[39mplot(dpsgd_xia22[\u001b[38;5;241m0\u001b[39m:\u001b[38;5;241m80\u001b[39m], marker\u001b[38;5;241m=\u001b[39m\u001b[38;5;124m'\u001b[39m\u001b[38;5;124m+\u001b[39m\u001b[38;5;124m'\u001b[39m, markeredgewidth\u001b[38;5;241m=\u001b[39m\u001b[38;5;241m2\u001b[39m, alpha \u001b[38;5;241m=\u001b[39m \u001b[38;5;241m0.6\u001b[39m, color\u001b[38;5;241m=\u001b[39m\u001b[38;5;124m'\u001b[39m\u001b[38;5;124mdarkmagenta\u001b[39m\u001b[38;5;124m'\u001b[39m)\n",
      "\u001b[0;31mNameError\u001b[0m: name 'inset_axes' is not defined"
     ]
    }
   ],
   "source": [
    "%matplotlib notebook\n",
    "plt.rcParams[\"font.family\"] = \"serif\"\n",
    "t = np.arange(80)\n",
    "\n",
    "fig, ax = plt.subplots()\n",
    "plt.grid(color='gray', ls = '-.', lw = 0.5)\n",
    "\n",
    "l1=ax.plot(t, dpsgd_xia18, alpha = 0.6, marker='+', markeredgewidth=2, label='DP-PSAC', color='darkmagenta')\n",
    "l1=ax.plot(t, dpsgd_auto18, alpha = 0.6, marker='+', markeredgewidth=2, label='NSGD/Auto-S', color='darkgoldenrod')\n",
    "l1=ax.plot(t, _autopcdp_xia18, alpha = 0.8, marker='+', markeredgewidth=2, label='DP-PSAC+Pre-projection', color='darkslategray')\n",
    "\n",
    "\n",
    "l1=ax.plot(t, _autopcdp_bu18, alpha = 0.6, marker='+', markeredgewidth=2, label='NSGD/Auto-S+Pre-projection',)\n",
    "l1=ax.plot(t, dp_abadi18, alpha = 0.6, marker='+', markeredgewidth=2, label='DP-SGD', )\n",
    "l1=ax.plot(t, pcdp_abadi18, alpha = 0.8, marker='+', markeredgewidth=2, label='PCDP-SGD', )\n",
    "\n",
    "#l1=plt.plot(t, Crdp_005, alpha = 0.5, marker='o', markeredgewidth=3, label='RDP-SGD', color='darkslategray')\n",
    "\n",
    "plt.title(\"Compatibility of Pre-projection with Adaptive Clipping\", size=13)\n",
    "plt.xlabel('Epoch', size=12)\n",
    "plt.ylabel('Accuracy', size=12)\n",
    "#plt.legend(loc='best')\n",
    "plt.legend(loc = 4)\n",
    "\n",
    "axins = inset_axes(ax, width=\"15%\", height=\"7%\", loc=3,\n",
    "                 bbox_to_anchor=(0.5, 0.5, 3, 2),\n",
    "                 bbox_transform=ax.transAxes)\n",
    "#在子坐标系中放入数据\n",
    "axins.plot(dpsgd_xia22[0:80], marker='+', markeredgewidth=2, alpha = 0.6, color='darkmagenta')\n",
    "axins.plot(dpsgd_auto22[0:80], marker='+', markeredgewidth=2, alpha = 0.6, color='darkgoldenrod')\n",
    "axins.plot(_autopcdp_xia22[0:80], marker='+', markeredgewidth=2, alpha = 0.8, color='darkslategray')\n",
    "axins.plot(_autopcdp_bu22[0:80],  marker='+', markeredgewidth=2, alpha = 0.6,)\n",
    "axins.plot(dp_abadi22[0:80], marker='+', markeredgewidth=2, alpha = 0.6, )\n",
    "axins.plot(pcdp_abadi22[0:80], marker='+', markeredgewidth=2, alpha = 0.8, )\n",
    "\n",
    "\n",
    "# #设置放大区间\n",
    "# zone_left = 30\n",
    "# zone_right = 40\n",
    "# # 坐标轴的扩展比例（根据实际数据调整）\n",
    "# x_ratio = 0  # x轴显示范围的扩展比例\n",
    "# y_ratio = 0.05  # y轴显示范围的扩展比例\n",
    "\n",
    "# # X轴的显示范围\n",
    "# xlim0 = 30\n",
    "# xlim1 = 40\n",
    "\n",
    "# # Y轴的显示范围\n",
    "# y = np.hstack((k25[zone_left:zone_right], k100[zone_left:zone_right]))\n",
    "# ylim0 = np.min(y)-(np.max(y)-np.min(y))*y_ratio\n",
    "# ylim1 = np.max(y)+(np.max(y)-np.min(y))*y_ratio\n",
    "\n",
    "# # 调整子坐标系的显示范围\n",
    "# axins.set_xlim(xlim0, xlim1)\n",
    "# axins.set_ylim(ylim0, ylim1)\n",
    "\n",
    "plt.savefig('./Fig/Compatibility of Pre-projection with Adaptive Clipping', bbox_inches='tight')"
   ]
  },
  {
   "cell_type": "code",
   "execution_count": null,
   "metadata": {},
   "outputs": [],
   "source": []
  },
  {
   "cell_type": "code",
   "execution_count": null,
   "metadata": {},
   "outputs": [],
   "source": []
  },
  {
   "cell_type": "code",
   "execution_count": 9,
   "metadata": {},
   "outputs": [],
   "source": [
    "### FMnist\n",
    "#sigma = 30\n",
    "pdp1=[10.6,30.23,29.64,29.09,45.38,45.84,51.17,45.81,53.9,54.11,54.04,55.76,59.61,62.05,62.19,64.5,62.3,63.96,59.84,60.67,63.99,63.84,59.39,62.83,60.54,60.45,60.96,58.74,60.92,60.34,62.24,61.6,60.57,63.31,62.32,61.18,64.68,62.72,63.16,63.15,62.69,63.28,63.05,63.33,63.57,63.41,63.52,63.57,63.36,63.55,63.45,63.42,63.41,63.45,63.69,63.66,63.44,63.72,63.6,63.63,63.58,63.59,63.59,63.62,63.6,63.76,63.74,63.74,63.78,63.79,63.81,63.84,63.86,63.85,63.8,63.82,63.81,63.84,63.85,63.91]\n",
    "pdp2=[10.6,30.22,29.71,29.19,45.7,45.87,47.96,46.04,52.76,49.96,50.65,47.59,60.14,60.95,57.21,57.63,56.42,58.02,53.64,55.94,58.55,56.22,57.84,57.61,59.17,58.7,59.93,62.25,63.27,59.58,62.69,61.34,63.62,64.87,61.72,62.25,63.21,62.98,63.32,60.35,62.15,63.28,63.58,63.17,64.03,63.9,64.32,64.78,64.45,64.57,65.0,65.21,66.44,66.93,66.7,66.27,65.55,65.88,66.61,66.0,66.13,66.12,66.2,66.31,66.45,66.45,66.39,66.49,66.54,66.61,66.77,66.75,66.79,67.08,67.03,67.11,67.07,67.1,67.19,67.09]\n",
    "pdp3=[10.6,30.22,29.71,29.19,45.74,45.9,48.18,45.94,52.57,50.39,50.47,50.72,61.09,62.22,56.83,59.95,59.52,61.93,59.24,60.31,57.79,59.96,60.83,62.41,59.19,63.39,61.71,62.0,61.05,62.36,63.54,63.56,64.16,65.38,63.63,63.17,64.68,63.19,61.12,64.77,65.96,66.4,66.39,66.26,66.47,66.51,66.64,66.5,66.73,66.8,66.73,66.53,66.89,67.29,67.43,67.78,67.41,67.5,67.51,67.51,67.44,67.55,67.54,67.59,67.62,67.65,67.66,67.59,67.63,67.66,67.66,67.67,67.66,67.65,67.68,67.7,67.68,67.69,67.68,67.69]\n",
    "pdp4=[10.6,30.22,29.68,29.19,45.6,46.51,51.13,46.03,50.47,49.37,50.36,50.76,58.57,60.43,58.81,55.81,59.77,58.01,59.15,57.47,56.8,58.57,59.8,65.04,59.54,62.26,63.27,61.8,62.63,63.19,62.83,63.3,63.89,64.61,62.86,62.71,68.48,64.54,61.84,61.56,62.2,62.94,63.16,63.72,64.31,64.64,65.11,65.07,65.24,65.17,65.6,65.67,65.97,66.24,66.58,66.53,66.86,66.53,67.04,67.28,67.25,67.21,67.24,67.32,67.39,67.37,67.51,67.72,67.67,67.72,67.73,67.83,67.85,67.9,67.91,67.91,67.85,67.75,67.82,67.86]\n",
    "pcdp1=[10.16,34.91,29.93,30.52,48.27,48.31,47.5,46.72,49.19,59.25,53.79,52.1,60.9,58.27,61.05,62.87,62.94,61.87,57.11,56.68,57.92,58.36,60.49,60.71,58.99,58.45,57.78,58.37,58.85,59.78,60.86,61.8,61.55,63.37,62.9,62.86,63.22,62.95,63.01,63.22,64.38,64.92,64.94,65.18,65.04,64.8,64.86,65.47,65.2,65.0,65.26,65.03,65.23,66.11,67.05,67.1,65.84,66.58,68.42,68.3,68.26,68.14,68.15,68.08,68.07,68.04,68.16,68.21,68.29,68.25,68.31,68.27,68.28,68.35,68.3,68.32,68.39,68.44,68.4,68.4]\n",
    "pcdp2=[10.16,34.92,29.94,30.42,48.13,48.04,47.66,46.17,47.18,55.97,53.54,51.4,58.8,59.78,58.68,60.81,61.78,63.12,57.91,59.12,57.85,58.87,59.08,61.62,57.23,60.58,60.98,58.31,60.7,63.0,63.45,62.44,63.37,59.71,62.7,61.48,62.09,63.91,60.62,60.3,62.74,63.76,63.92,64.45,64.22,63.82,63.87,64.58,64.88,64.56,64.91,65.04,64.9,64.91,64.6,64.72,65.27,65.26,65.84,66.52,66.45,66.5,66.46,66.43,66.52,66.42,66.46,66.46,66.5,66.41,66.4,66.42,66.49,66.4,66.43,66.35,66.35,66.36,66.19,66.23]\n",
    "pcdp3=[10.16,34.92,29.94,30.41,47.67,46.94,47.72,47.05,48.71,57.95,52.85,53.85,60.03,62.62,60.86,58.42,62.77,64.45,61.08,59.19,62.67,59.74,60.86,64.59,62.44,59.87,61.44,63.06,63.34,62.93,62.61,57.74,61.89,63.32,61.73,63.17,63.05,62.1,59.43,61.45,62.92,64.15,64.57,64.99,65.56,65.56,65.86,66.06,66.3,66.67,66.8,66.1,65.84,65.87,65.76,65.92,66.08,66.4,66.62,66.22,66.21,66.24,66.22,66.27,66.24,66.23,66.32,66.36,66.47,66.54,66.5,66.43,66.3,66.33,66.38,66.37,66.47,66.54,66.59,66.59]\n",
    "pcdp4=[10.16,34.91,29.92,30.57,48.71,48.15,47.92,46.0,46.77,57.17,55.75,56.27,59.69,61.89,63.44,61.63,64.12,61.78,59.31,60.29,58.53,60.98,62.6,62.18,64.79,64.62,64.87,64.35,66.72,65.79,65.08,63.87,66.1,66.98,65.55,66.27,65.03,67.88,64.16,66.94,68.12,68.4,68.69,68.24,68.51,68.01,68.71,68.23,67.64,67.72,67.7,67.81,68.26,68.42,68.27,68.0,67.78,67.63,68.29,68.17,68.19,68.26,68.26,68.32,68.29,68.34,68.4,68.39,68.43,68.42,68.46,68.43,68.45,68.44,68.48,68.52,68.48,68.62,68.49,68.52]\n",
    "dp1=[29.19,26.81,35.15,38.61,43.43,40.12,44.82,42.45,47.08,42.93,43.57,44.07,46.92,40.95,42.03,41.86,46.24,49.44,44.69,43.41,48.49,48.6,45.6,38.52,45.91,47.97,47.3,46.28,47.72,49.91,48.25,52.31,47.23,47.6,49.48,46.01,47.08,45.91,50.7,47.5,47.43,48.07,49.19,49.44,49.59,50.42,50.76,50.99,51.21,51.26,51.56,51.84,51.98,52.2,52.61,52.91,52.77,53.03,53.25,53.67,53.62,53.65,53.67,53.71,53.6,53.58,53.62,53.67,53.77,53.57,53.65,53.64,53.68,53.64,53.72,53.8,53.85,53.9,53.95,53.87]\n",
    "dp2=[29.19,26.8,35.15,38.6,43.43,40.12,44.83,42.47,47.1,42.9,43.57,44.06,46.91,40.97,42.0,41.81,46.26,49.46,44.69,43.4,48.53,48.65,45.57,38.55,45.91,47.97,47.27,46.24,47.71,49.88,48.32,52.29,47.22,47.68,49.45,46.09,47.06,45.94,50.78,47.51,47.45,48.14,49.15,49.47,49.62,50.42,50.75,50.94,51.16,51.2,51.52,51.81,51.97,52.2,52.58,52.87,52.81,53.1,53.21,53.68,53.66,53.64,53.63,53.63,53.58,53.58,53.52,53.59,53.68,53.57,53.57,53.65,53.63,53.7,53.73,53.86,53.86,53.89,53.93,53.82]\n",
    "dp3=[29.19,26.8,35.15,38.6,43.43,40.13,44.83,42.47,47.1,42.94,43.58,44.06,46.91,40.94,42.0,41.87,46.22,49.43,44.66,43.42,48.5,48.65,45.64,38.56,45.93,48.0,47.33,46.28,47.8,49.88,48.19,52.28,47.24,47.59,49.47,46.0,47.07,45.9,50.68,47.45,47.39,48.09,49.19,49.41,49.55,50.39,50.75,50.98,51.14,51.23,51.62,51.87,51.99,52.08,52.58,52.88,52.78,53.05,53.25,53.7,53.64,53.6,53.69,53.58,53.6,53.54,53.61,53.64,53.7,53.58,53.6,53.66,53.63,53.62,53.74,53.8,53.82,53.9,53.89,53.88]\n",
    "dp4=[29.19,26.8,35.15,38.61,43.43,40.12,44.83,42.47,47.1,42.92,43.57,44.07,46.91,40.94,42.0,41.86,46.2,49.44,44.64,43.43,48.5,48.65,45.65,38.56,45.94,47.99,47.33,46.31,47.81,49.88,48.22,52.27,47.23,47.6,49.45,46.0,47.07,45.88,50.74,47.39,47.36,48.15,49.22,49.44,49.54,50.41,50.74,50.99,51.14,51.24,51.63,51.85,51.97,52.12,52.6,52.9,52.76,53.04,53.21,53.72,53.59,53.59,53.69,53.64,53.59,53.57,53.62,53.63,53.7,53.64,53.6,53.69,53.63,53.64,53.72,53.81,53.84,53.87,53.84,53.92]"
   ]
  },
  {
   "cell_type": "code",
   "execution_count": 10,
   "metadata": {},
   "outputs": [],
   "source": [
    "pdp1 = np.array(pdp1)\n",
    "pdp2 = np.array(pdp2)\n",
    "pdp3 = np.array(pdp3)\n",
    "pdp4 = np.array(pdp4)\n",
    "pcdp1 = np.array(pcdp1)\n",
    "pcdp2 = np.array(pcdp2)\n",
    "pcdp3 = np.array(pcdp3)\n",
    "pcdp4 = np.array(pcdp4)\n",
    "dp1 = np.array(dp1)\n",
    "dp2 = np.array(dp2)\n",
    "dp3 = np.array(dp3)\n",
    "dp4 = np.array(dp4)"
   ]
  },
  {
   "cell_type": "code",
   "execution_count": 38,
   "metadata": {},
   "outputs": [
    {
     "data": {
      "text/plain": [
       "66.6375"
      ]
     },
     "execution_count": 38,
     "metadata": {},
     "output_type": "execute_result"
    }
   ],
   "source": [
    "pdp = (pdp1+pdp2+pdp3+pdp4)/4\n",
    "pdp[79]"
   ]
  },
  {
   "cell_type": "code",
   "execution_count": 39,
   "metadata": {},
   "outputs": [
    {
     "data": {
      "text/plain": [
       "66.6375"
      ]
     },
     "execution_count": 39,
     "metadata": {},
     "output_type": "execute_result"
    }
   ],
   "source": [
    "np.max(pdp)"
   ]
  },
  {
   "cell_type": "code",
   "execution_count": 35,
   "metadata": {},
   "outputs": [],
   "source": [
    "standard_deviation = np.sqrt(( np.square(pdp[79]-pdp1[79]) + np.square(pdp[79]-pdp2[79]) + np.square(pdp[79]-pdp3[79]) + np.square(pdp[79]-pdp4[79]))/4)\n",
    "#standard_deviation = np.sqrt(( np.square(np.max(pdp)-np.max(pdp1)) + np.square(np.max(pdp)-np.max(pdp2)) + np.square(np.max(pdp)-np.max(pdp3)) + np.square(np.max(pdp)-np.max(pdp4)))/4)\n",
    "\n"
   ]
  },
  {
   "cell_type": "code",
   "execution_count": 36,
   "metadata": {},
   "outputs": [
    {
     "data": {
      "text/plain": [
       "0.3640312486586834"
      ]
     },
     "execution_count": 36,
     "metadata": {},
     "output_type": "execute_result"
    }
   ],
   "source": [
    "standard_deviation"
   ]
  },
  {
   "cell_type": "code",
   "execution_count": 24,
   "metadata": {},
   "outputs": [
    {
     "data": {
      "text/plain": [
       "67.435"
      ]
     },
     "execution_count": 24,
     "metadata": {},
     "output_type": "execute_result"
    }
   ],
   "source": [
    "pcdp = (pcdp1+pcdp2+pcdp3+pcdp4)/4\n",
    "pcdp[79]"
   ]
  },
  {
   "cell_type": "code",
   "execution_count": 37,
   "metadata": {},
   "outputs": [
    {
     "data": {
      "text/plain": [
       "67.49000000000001"
      ]
     },
     "execution_count": 37,
     "metadata": {},
     "output_type": "execute_result"
    }
   ],
   "source": [
    "np.max(pcdp)"
   ]
  },
  {
   "cell_type": "code",
   "execution_count": 40,
   "metadata": {},
   "outputs": [],
   "source": [
    "#standard_deviation_c = np.sqrt(( np.square(pcdp[79]-pcdp1[79]) + np.square(pcdp[79]-pcdp2[79]) + np.square(pcdp[79]-pcdp3[79]) + np.square(pcdp[79]-pcdp4[79]))/4)\n",
    "standard_deviation_c = np.sqrt(( np.square(np.max(pcdp)-np.max(pcdp1)) + np.square(np.max(pcdp)-np.max(pcdp2)) + np.square(np.max(pcdp)-np.max(pcdp3)) + np.square(np.max(pcdp)-np.max(pcdp4)))/4)\n",
    "\n"
   ]
  },
  {
   "cell_type": "code",
   "execution_count": 41,
   "metadata": {},
   "outputs": [
    {
     "data": {
      "text/plain": [
       "0.9756920620769628"
      ]
     },
     "execution_count": 41,
     "metadata": {},
     "output_type": "execute_result"
    }
   ],
   "source": [
    "standard_deviation_c"
   ]
  },
  {
   "cell_type": "code",
   "execution_count": 11,
   "metadata": {},
   "outputs": [
    {
     "data": {
      "text/plain": [
       "53.902499999999996"
      ]
     },
     "execution_count": 11,
     "metadata": {},
     "output_type": "execute_result"
    }
   ],
   "source": [
    "#dp = (dp1+dp2)/2\n",
    "dp = (dp1+dp2+dp3+dp4)/4\n",
    "np.max(dp)"
   ]
  },
  {
   "cell_type": "code",
   "execution_count": 12,
   "metadata": {},
   "outputs": [],
   "source": [
    "#sd_dp = np.sqrt((np.square(dp[79]-dp1[79])+np.square(dp[79]-dp2[79]))/2 )\n",
    "sd_dp = np.sqrt((np.square(dp[79]-dp1[79])+np.square(dp[79]-dp2[79])+np.square(dp[79]-dp3[79])+np.square(dp[79]-dp4[79]))/4 )\n",
    "standard_deviation = np.sqrt(( np.square(np.max(dp)-np.max(dp1)) + np.square(np.max(dp)-np.max(dp2)) + np.square(np.max(dp)-np.max(dp3)) + np.square(np.max(dp)-np.max(dp4)))/4)\n"
   ]
  },
  {
   "cell_type": "code",
   "execution_count": 13,
   "metadata": {},
   "outputs": [
    {
     "data": {
      "text/plain": [
       "0.028831406486681265"
      ]
     },
     "execution_count": 13,
     "metadata": {},
     "output_type": "execute_result"
    }
   ],
   "source": [
    "standard_deviation"
   ]
  },
  {
   "cell_type": "code",
   "execution_count": null,
   "metadata": {},
   "outputs": [],
   "source": []
  },
  {
   "cell_type": "code",
   "execution_count": 10,
   "metadata": {},
   "outputs": [
    {
     "data": {
      "text/plain": [
       "tensor([[ 0,  1,  2],\n",
       "        [ 3,  4, 10],\n",
       "        [11, 12, 13]])"
      ]
     },
     "execution_count": 10,
     "metadata": {},
     "output_type": "execute_result"
    }
   ],
   "source": [
    "a=torch.tensor([0,1,2,3,4,10,11,12,13])\n",
    "a.reshape(3,3)"
   ]
  },
  {
   "cell_type": "code",
   "execution_count": 12,
   "metadata": {},
   "outputs": [
    {
     "data": {
      "text/plain": [
       "tensor([ 0,  1,  2,  3,  4, 10, 11, 12, 13])"
      ]
     },
     "execution_count": 12,
     "metadata": {},
     "output_type": "execute_result"
    }
   ],
   "source": [
    "a[0:,]"
   ]
  },
  {
   "cell_type": "code",
   "execution_count": null,
   "metadata": {},
   "outputs": [],
   "source": [
    "% Please add the following required packages to your document preamble:\n",
    "% \\usepackage{booktabs}\n",
    "\\begin{table}[]\n",
    "\\begin{tabular}{@{}lllllllllllllllllllll@{}}\n",
    "\\toprule\n",
    "         & \\multicolumn{7}{c}{MNIST}       & \\multicolumn{7}{c}{FMNIST}      & \\multicolumn{6}{c}{CIFAR10} \\\\ \\midrule\n",
    "Epsilon  & 6 & 10 & 14 & 18 & 22 & 26 & 30 & 6 & 10 & 14 & 18 & 22 & 26 & 30 & 2  & 4  & 6  & 10 & 14 & 18 \\\\\n",
    "DP-SGD   &   &    &    &    &    &    &    &   &    &    &    &    &    &    &    &    &    &    &    &    \\\\\n",
    "PDP-SGD  &   &    &    &    &    &    &    &   &    &    &    &    &    &    &    &    &    &    &    &    \\\\\n",
    "PCDP-SGD &   &    &    &    &    &    &    &   &    &    &    &    &    &    &    &    &    &    &    &    \\\\\n",
    "RPDP-SGD &   &    &    &    &    &    &    &   &    &    &    &    &    &    &    &    &    &    &    &    \\\\\n",
    "         &   &    &    &    &    &    &    &   &    &    &    &    &    &    &    &    &    &    &    &    \\\\ \\bottomrule\n",
    "\\end{tabular}\n",
    "\\end{table}"
   ]
  }
 ],
 "metadata": {
  "kernelspec": {
   "display_name": "dpsgd",
   "language": "python",
   "name": "dpsgd"
  },
  "language_info": {
   "codemirror_mode": {
    "name": "ipython",
    "version": 3
   },
   "file_extension": ".py",
   "mimetype": "text/x-python",
   "name": "python",
   "nbconvert_exporter": "python",
   "pygments_lexer": "ipython3",
   "version": "3.8.16"
  }
 },
 "nbformat": 4,
 "nbformat_minor": 4
}
